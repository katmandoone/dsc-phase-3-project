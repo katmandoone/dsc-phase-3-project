{
 "cells": [
  {
   "cell_type": "code",
   "execution_count": 1,
   "metadata": {
    "ExecuteTime": {
     "end_time": "2021-02-21T20:44:36.067772Z",
     "start_time": "2021-02-21T20:44:35.765290Z"
    }
   },
   "outputs": [],
   "source": [
    "from selenium import webdriver\n",
    "from selenium.webdriver.common.by import By\n",
    "from selenium.webdriver.support.ui import WebDriverWait\n",
    "from selenium.webdriver.support import expected_conditions as EC\n",
    "from selenium.common.exceptions import TimeoutException\n",
    "from IPython.display import clear_output\n",
    "import pandas as pd"
   ]
  },
  {
   "cell_type": "code",
   "execution_count": 2,
   "metadata": {
    "ExecuteTime": {
     "end_time": "2021-02-21T20:44:37.242545Z",
     "start_time": "2021-02-21T20:44:36.068699Z"
    }
   },
   "outputs": [],
   "source": [
    "# set up selenium webscraping browser\n",
    "\n",
    "option = webdriver.ChromeOptions()\n",
    "option.add_argument('incognito')\n",
    "\n",
    "browser = webdriver.Chrome(options=option)"
   ]
  },
  {
   "cell_type": "code",
   "execution_count": 3,
   "metadata": {
    "ExecuteTime": {
     "end_time": "2021-02-21T21:02:35.770195Z",
     "start_time": "2021-02-21T20:44:37.243538Z"
    }
   },
   "outputs": [
    {
     "name": "stdout",
     "output_type": "stream",
     "text": [
      "Page: 504\n",
      "Stopped on page 505\n"
     ]
    }
   ],
   "source": [
    "# scrape esrb.org for game information\n",
    "\n",
    "pg = 1\n",
    "games_list = []\n",
    "\n",
    "while True:\n",
    "    browser.get(\"https://www.esrb.org/search/?searchKeyword=\" \\\n",
    "                \"&platform=Nintendo%20Switch%2CPlayStation%204%2CXbox%20One\" \\\n",
    "                \"&rating=E%2CE10%2B%2CT%2CM%2CAO&descriptor=All%20Content\" \\\n",
    "                \"&pg={}&searchType=All\".format(pg))\n",
    "    try:\n",
    "        # make selenium wait until games are loaded before moving on\n",
    "        element = WebDriverWait(browser, 10).until(\n",
    "            EC.presence_of_element_located((By.CLASS_NAME, 'game')))\n",
    "        \n",
    "        # games on current page\n",
    "        results = browser.find_elements_by_xpath(\"//div[@class='game']\")\n",
    "        \n",
    "        titles, consoles, ratings, descriptors = [], [], [], []\n",
    "        \n",
    "        # pull relevant content from results\n",
    "        for x in results:\n",
    "            # titles\n",
    "            title = x.find_element_by_css_selector('h2').text\n",
    "            titles.append(title)\n",
    "            \n",
    "            # consoles\n",
    "            console = x.find_element_by_class_name('platforms').text\n",
    "            consoles.append(console)\n",
    "            \n",
    "            # ratings are displayed on the page as an image,\n",
    "            # so we have to pull the rating from the image's url\n",
    "            xpath = x.find_element_by_css_selector('img')\n",
    "            rating = xpath.get_attribute('src')[58:-4]\n",
    "            ratings.append(rating)\n",
    "            \n",
    "            # descriptors\n",
    "            desc = x.find_elements_by_css_selector('td')[1].text\n",
    "            descriptors.append(desc)\n",
    "            \n",
    "        # collect the results as a list of dictionaries\n",
    "        for i in range(len(titles)):\n",
    "            game_dict = {}\n",
    "            game_dict['title'] = titles[i]\n",
    "            game_dict['consoles'] = consoles[i]\n",
    "            game_dict['rating'] = ratings[i]\n",
    "            game_dict['descriptors'] = descriptors[i]\n",
    "            games_list.append(game_dict)\n",
    "            \n",
    "        # progress indicator\n",
    "        clear_output(wait=True)\n",
    "        print('Page: {}'.format(pg))\n",
    "        pg += 1\n",
    "        \n",
    "    # stop running when no more games are found\n",
    "    except:\n",
    "        print('Stopped on page {}'.format(pg))\n",
    "        break"
   ]
  },
  {
   "cell_type": "code",
   "execution_count": 4,
   "metadata": {
    "ExecuteTime": {
     "end_time": "2021-02-21T21:02:35.785156Z",
     "start_time": "2021-02-21T21:02:35.772220Z"
    }
   },
   "outputs": [
    {
     "data": {
      "text/plain": [
       "[{'title': 'Blizzard Arcade Collection',\n",
       "  'consoles': 'Windows PC, PlayStation 4, Nintendo Switch, Xbox One',\n",
       "  'rating': 'T',\n",
       "  'descriptors': 'Blood, Fantasy Violence, Language, Use of Tobacco'},\n",
       " {'title': 'Rez Infinite',\n",
       "  'consoles': 'PlayStation 4',\n",
       "  'rating': 'E10plus',\n",
       "  'descriptors': 'Fantasy Violence'},\n",
       " {'title': 'Hotshot Racing',\n",
       "  'consoles': 'PlayStation 4, Nintendo Switch',\n",
       "  'rating': 'E10plus',\n",
       "  'descriptors': 'Alcohol Reference, Language, Mild Violence'},\n",
       " {'title': \"Sea of Solitude : The Director's Cut\",\n",
       "  'consoles': 'Nintendo Switch',\n",
       "  'rating': 'T',\n",
       "  'descriptors': 'Fantasy Violence, Language'},\n",
       " {'title': 'Ape Out',\n",
       "  'consoles': 'Nintendo Switch',\n",
       "  'rating': 'T',\n",
       "  'descriptors': 'Blood and Gore, Violence'}]"
      ]
     },
     "execution_count": 4,
     "metadata": {},
     "output_type": "execute_result"
    }
   ],
   "source": [
    "# preview of games_list\n",
    "games_list[:5]"
   ]
  },
  {
   "cell_type": "code",
   "execution_count": 5,
   "metadata": {
    "ExecuteTime": {
     "end_time": "2021-02-21T21:02:35.817151Z",
     "start_time": "2021-02-21T21:02:35.787158Z"
    }
   },
   "outputs": [
    {
     "data": {
      "text/html": [
       "<div>\n",
       "<style scoped>\n",
       "    .dataframe tbody tr th:only-of-type {\n",
       "        vertical-align: middle;\n",
       "    }\n",
       "\n",
       "    .dataframe tbody tr th {\n",
       "        vertical-align: top;\n",
       "    }\n",
       "\n",
       "    .dataframe thead th {\n",
       "        text-align: right;\n",
       "    }\n",
       "</style>\n",
       "<table border=\"1\" class=\"dataframe\">\n",
       "  <thead>\n",
       "    <tr style=\"text-align: right;\">\n",
       "      <th></th>\n",
       "      <th>title</th>\n",
       "      <th>consoles</th>\n",
       "      <th>rating</th>\n",
       "      <th>descriptors</th>\n",
       "    </tr>\n",
       "  </thead>\n",
       "  <tbody>\n",
       "    <tr>\n",
       "      <th>0</th>\n",
       "      <td>Blizzard Arcade Collection</td>\n",
       "      <td>Windows PC, PlayStation 4, Nintendo Switch, Xb...</td>\n",
       "      <td>T</td>\n",
       "      <td>Blood, Fantasy Violence, Language, Use of Tobacco</td>\n",
       "    </tr>\n",
       "    <tr>\n",
       "      <th>1</th>\n",
       "      <td>Rez Infinite</td>\n",
       "      <td>PlayStation 4</td>\n",
       "      <td>E10plus</td>\n",
       "      <td>Fantasy Violence</td>\n",
       "    </tr>\n",
       "    <tr>\n",
       "      <th>2</th>\n",
       "      <td>Hotshot Racing</td>\n",
       "      <td>PlayStation 4, Nintendo Switch</td>\n",
       "      <td>E10plus</td>\n",
       "      <td>Alcohol Reference, Language, Mild Violence</td>\n",
       "    </tr>\n",
       "    <tr>\n",
       "      <th>3</th>\n",
       "      <td>Sea of Solitude : The Director's Cut</td>\n",
       "      <td>Nintendo Switch</td>\n",
       "      <td>T</td>\n",
       "      <td>Fantasy Violence, Language</td>\n",
       "    </tr>\n",
       "    <tr>\n",
       "      <th>4</th>\n",
       "      <td>Ape Out</td>\n",
       "      <td>Nintendo Switch</td>\n",
       "      <td>T</td>\n",
       "      <td>Blood and Gore, Violence</td>\n",
       "    </tr>\n",
       "  </tbody>\n",
       "</table>\n",
       "</div>"
      ],
      "text/plain": [
       "                                  title  \\\n",
       "0            Blizzard Arcade Collection   \n",
       "1                          Rez Infinite   \n",
       "2                        Hotshot Racing   \n",
       "3  Sea of Solitude : The Director's Cut   \n",
       "4                               Ape Out   \n",
       "\n",
       "                                            consoles   rating  \\\n",
       "0  Windows PC, PlayStation 4, Nintendo Switch, Xb...        T   \n",
       "1                                      PlayStation 4  E10plus   \n",
       "2                     PlayStation 4, Nintendo Switch  E10plus   \n",
       "3                                    Nintendo Switch        T   \n",
       "4                                    Nintendo Switch        T   \n",
       "\n",
       "                                         descriptors  \n",
       "0  Blood, Fantasy Violence, Language, Use of Tobacco  \n",
       "1                                   Fantasy Violence  \n",
       "2         Alcohol Reference, Language, Mild Violence  \n",
       "3                         Fantasy Violence, Language  \n",
       "4                           Blood and Gore, Violence  "
      ]
     },
     "execution_count": 5,
     "metadata": {},
     "output_type": "execute_result"
    }
   ],
   "source": [
    "# dataframe of collected data\n",
    "df = pd.DataFrame(games_list)\n",
    "df.head()"
   ]
  },
  {
   "cell_type": "code",
   "execution_count": 6,
   "metadata": {
    "ExecuteTime": {
     "end_time": "2021-02-21T21:02:35.832113Z",
     "start_time": "2021-02-21T21:02:35.819093Z"
    }
   },
   "outputs": [
    {
     "name": "stdout",
     "output_type": "stream",
     "text": [
      "<class 'pandas.core.frame.DataFrame'>\n",
      "RangeIndex: 5034 entries, 0 to 5033\n",
      "Data columns (total 4 columns):\n",
      " #   Column       Non-Null Count  Dtype \n",
      "---  ------       --------------  ----- \n",
      " 0   title        5034 non-null   object\n",
      " 1   consoles     5034 non-null   object\n",
      " 2   rating       5034 non-null   object\n",
      " 3   descriptors  5034 non-null   object\n",
      "dtypes: object(4)\n",
      "memory usage: 157.4+ KB\n"
     ]
    }
   ],
   "source": [
    "df.info()"
   ]
  },
  {
   "cell_type": "code",
   "execution_count": 7,
   "metadata": {
    "ExecuteTime": {
     "end_time": "2021-02-21T21:02:35.848002Z",
     "start_time": "2021-02-21T21:02:35.833028Z"
    }
   },
   "outputs": [
    {
     "data": {
      "text/html": [
       "<div>\n",
       "<style scoped>\n",
       "    .dataframe tbody tr th:only-of-type {\n",
       "        vertical-align: middle;\n",
       "    }\n",
       "\n",
       "    .dataframe tbody tr th {\n",
       "        vertical-align: top;\n",
       "    }\n",
       "\n",
       "    .dataframe thead th {\n",
       "        text-align: right;\n",
       "    }\n",
       "</style>\n",
       "<table border=\"1\" class=\"dataframe\">\n",
       "  <thead>\n",
       "    <tr style=\"text-align: right;\">\n",
       "      <th></th>\n",
       "      <th>title</th>\n",
       "      <th>consoles</th>\n",
       "      <th>rating</th>\n",
       "      <th>descriptors</th>\n",
       "    </tr>\n",
       "  </thead>\n",
       "  <tbody>\n",
       "    <tr>\n",
       "      <th>0</th>\n",
       "      <td>Blizzard Arcade Collection</td>\n",
       "      <td>[Windows PC, PlayStation 4, Nintendo Switch, X...</td>\n",
       "      <td>T</td>\n",
       "      <td>[Blood, Fantasy Violence, Language, Use of Tob...</td>\n",
       "    </tr>\n",
       "    <tr>\n",
       "      <th>1</th>\n",
       "      <td>Rez Infinite</td>\n",
       "      <td>[PlayStation 4]</td>\n",
       "      <td>E10plus</td>\n",
       "      <td>[Fantasy Violence]</td>\n",
       "    </tr>\n",
       "    <tr>\n",
       "      <th>2</th>\n",
       "      <td>Hotshot Racing</td>\n",
       "      <td>[PlayStation 4, Nintendo Switch]</td>\n",
       "      <td>E10plus</td>\n",
       "      <td>[Alcohol Reference, Language, Mild Violence]</td>\n",
       "    </tr>\n",
       "    <tr>\n",
       "      <th>3</th>\n",
       "      <td>Sea of Solitude : The Director's Cut</td>\n",
       "      <td>[Nintendo Switch]</td>\n",
       "      <td>T</td>\n",
       "      <td>[Fantasy Violence, Language]</td>\n",
       "    </tr>\n",
       "    <tr>\n",
       "      <th>4</th>\n",
       "      <td>Ape Out</td>\n",
       "      <td>[Nintendo Switch]</td>\n",
       "      <td>T</td>\n",
       "      <td>[Blood and Gore, Violence]</td>\n",
       "    </tr>\n",
       "  </tbody>\n",
       "</table>\n",
       "</div>"
      ],
      "text/plain": [
       "                                  title  \\\n",
       "0            Blizzard Arcade Collection   \n",
       "1                          Rez Infinite   \n",
       "2                        Hotshot Racing   \n",
       "3  Sea of Solitude : The Director's Cut   \n",
       "4                               Ape Out   \n",
       "\n",
       "                                            consoles   rating  \\\n",
       "0  [Windows PC, PlayStation 4, Nintendo Switch, X...        T   \n",
       "1                                    [PlayStation 4]  E10plus   \n",
       "2                   [PlayStation 4, Nintendo Switch]  E10plus   \n",
       "3                                  [Nintendo Switch]        T   \n",
       "4                                  [Nintendo Switch]        T   \n",
       "\n",
       "                                         descriptors  \n",
       "0  [Blood, Fantasy Violence, Language, Use of Tob...  \n",
       "1                                 [Fantasy Violence]  \n",
       "2       [Alcohol Reference, Language, Mild Violence]  \n",
       "3                       [Fantasy Violence, Language]  \n",
       "4                         [Blood and Gore, Violence]  "
      ]
     },
     "execution_count": 7,
     "metadata": {},
     "output_type": "execute_result"
    }
   ],
   "source": [
    "# split consoles and descriptors columns\n",
    "df.descriptors = df.descriptors.map(lambda x: x.split(', '))\n",
    "df.consoles = df.consoles.map(lambda x: x.split(', '))\n",
    "\n",
    "df.head()"
   ]
  },
  {
   "cell_type": "code",
   "execution_count": 8,
   "metadata": {
    "ExecuteTime": {
     "end_time": "2021-02-21T21:02:36.273849Z",
     "start_time": "2021-02-21T21:02:35.849983Z"
    }
   },
   "outputs": [
    {
     "data": {
      "text/html": [
       "<div>\n",
       "<style scoped>\n",
       "    .dataframe tbody tr th:only-of-type {\n",
       "        vertical-align: middle;\n",
       "    }\n",
       "\n",
       "    .dataframe tbody tr th {\n",
       "        vertical-align: top;\n",
       "    }\n",
       "\n",
       "    .dataframe thead th {\n",
       "        text-align: right;\n",
       "    }\n",
       "</style>\n",
       "<table border=\"1\" class=\"dataframe\">\n",
       "  <thead>\n",
       "    <tr style=\"text-align: right;\">\n",
       "      <th></th>\n",
       "      <th>title</th>\n",
       "      <th>consoles</th>\n",
       "      <th>rating</th>\n",
       "      <th>descriptors</th>\n",
       "    </tr>\n",
       "  </thead>\n",
       "  <tbody>\n",
       "    <tr>\n",
       "      <th>0</th>\n",
       "      <td>Blizzard Arcade Collection</td>\n",
       "      <td>[PlayStation 4, Nintendo Switch, Xbox One]</td>\n",
       "      <td>T</td>\n",
       "      <td>[Blood, Fantasy Violence, Language, Use of Tob...</td>\n",
       "    </tr>\n",
       "    <tr>\n",
       "      <th>1</th>\n",
       "      <td>Rez Infinite</td>\n",
       "      <td>[PlayStation 4]</td>\n",
       "      <td>E10plus</td>\n",
       "      <td>[Fantasy Violence]</td>\n",
       "    </tr>\n",
       "    <tr>\n",
       "      <th>2</th>\n",
       "      <td>Hotshot Racing</td>\n",
       "      <td>[PlayStation 4, Nintendo Switch]</td>\n",
       "      <td>E10plus</td>\n",
       "      <td>[Alcohol Reference, Language, Mild Violence]</td>\n",
       "    </tr>\n",
       "    <tr>\n",
       "      <th>3</th>\n",
       "      <td>Sea of Solitude : The Director's Cut</td>\n",
       "      <td>[Nintendo Switch]</td>\n",
       "      <td>T</td>\n",
       "      <td>[Fantasy Violence, Language]</td>\n",
       "    </tr>\n",
       "    <tr>\n",
       "      <th>4</th>\n",
       "      <td>Ape Out</td>\n",
       "      <td>[Nintendo Switch]</td>\n",
       "      <td>T</td>\n",
       "      <td>[Blood and Gore, Violence]</td>\n",
       "    </tr>\n",
       "  </tbody>\n",
       "</table>\n",
       "</div>"
      ],
      "text/plain": [
       "                                  title  \\\n",
       "0            Blizzard Arcade Collection   \n",
       "1                          Rez Infinite   \n",
       "2                        Hotshot Racing   \n",
       "3  Sea of Solitude : The Director's Cut   \n",
       "4                               Ape Out   \n",
       "\n",
       "                                     consoles   rating  \\\n",
       "0  [PlayStation 4, Nintendo Switch, Xbox One]        T   \n",
       "1                             [PlayStation 4]  E10plus   \n",
       "2            [PlayStation 4, Nintendo Switch]  E10plus   \n",
       "3                           [Nintendo Switch]        T   \n",
       "4                           [Nintendo Switch]        T   \n",
       "\n",
       "                                         descriptors  \n",
       "0  [Blood, Fantasy Violence, Language, Use of Tob...  \n",
       "1                                 [Fantasy Violence]  \n",
       "2       [Alcohol Reference, Language, Mild Violence]  \n",
       "3                       [Fantasy Violence, Language]  \n",
       "4                         [Blood and Gore, Violence]  "
      ]
     },
     "execution_count": 8,
     "metadata": {},
     "output_type": "execute_result"
    }
   ],
   "source": [
    "# choose consoles\n",
    "consoles_list = ['PlayStation 4', 'Xbox One', 'Nintendo Switch']\n",
    "for i in range(len(df)):\n",
    "    df.consoles[i] = [x for x in df.consoles[i] if x in consoles_list]\n",
    "    \n",
    "df.head()"
   ]
  },
  {
   "cell_type": "code",
   "execution_count": 9,
   "metadata": {
    "ExecuteTime": {
     "end_time": "2021-02-21T21:02:36.288813Z",
     "start_time": "2021-02-21T21:02:36.275843Z"
    },
    "scrolled": true
   },
   "outputs": [
    {
     "data": {
      "text/html": [
       "<div>\n",
       "<style scoped>\n",
       "    .dataframe tbody tr th:only-of-type {\n",
       "        vertical-align: middle;\n",
       "    }\n",
       "\n",
       "    .dataframe tbody tr th {\n",
       "        vertical-align: top;\n",
       "    }\n",
       "\n",
       "    .dataframe thead th {\n",
       "        text-align: right;\n",
       "    }\n",
       "</style>\n",
       "<table border=\"1\" class=\"dataframe\">\n",
       "  <thead>\n",
       "    <tr style=\"text-align: right;\">\n",
       "      <th></th>\n",
       "      <th>title</th>\n",
       "      <th>consoles</th>\n",
       "      <th>descriptors</th>\n",
       "      <th>rating</th>\n",
       "    </tr>\n",
       "  </thead>\n",
       "  <tbody>\n",
       "    <tr>\n",
       "      <th>0</th>\n",
       "      <td>Blizzard Arcade Collection</td>\n",
       "      <td>[PlayStation 4, Nintendo Switch, Xbox One]</td>\n",
       "      <td>[Blood, Fantasy Violence, Language, Use of Tob...</td>\n",
       "      <td>T</td>\n",
       "    </tr>\n",
       "    <tr>\n",
       "      <th>1</th>\n",
       "      <td>Rez Infinite</td>\n",
       "      <td>[PlayStation 4]</td>\n",
       "      <td>[Fantasy Violence]</td>\n",
       "      <td>E10plus</td>\n",
       "    </tr>\n",
       "    <tr>\n",
       "      <th>2</th>\n",
       "      <td>Hotshot Racing</td>\n",
       "      <td>[PlayStation 4, Nintendo Switch]</td>\n",
       "      <td>[Alcohol Reference, Language, Mild Violence]</td>\n",
       "      <td>E10plus</td>\n",
       "    </tr>\n",
       "    <tr>\n",
       "      <th>3</th>\n",
       "      <td>Sea of Solitude : The Director's Cut</td>\n",
       "      <td>[Nintendo Switch]</td>\n",
       "      <td>[Fantasy Violence, Language]</td>\n",
       "      <td>T</td>\n",
       "    </tr>\n",
       "    <tr>\n",
       "      <th>4</th>\n",
       "      <td>Ape Out</td>\n",
       "      <td>[Nintendo Switch]</td>\n",
       "      <td>[Blood and Gore, Violence]</td>\n",
       "      <td>T</td>\n",
       "    </tr>\n",
       "  </tbody>\n",
       "</table>\n",
       "</div>"
      ],
      "text/plain": [
       "                                  title  \\\n",
       "0            Blizzard Arcade Collection   \n",
       "1                          Rez Infinite   \n",
       "2                        Hotshot Racing   \n",
       "3  Sea of Solitude : The Director's Cut   \n",
       "4                               Ape Out   \n",
       "\n",
       "                                     consoles  \\\n",
       "0  [PlayStation 4, Nintendo Switch, Xbox One]   \n",
       "1                             [PlayStation 4]   \n",
       "2            [PlayStation 4, Nintendo Switch]   \n",
       "3                           [Nintendo Switch]   \n",
       "4                           [Nintendo Switch]   \n",
       "\n",
       "                                         descriptors   rating  \n",
       "0  [Blood, Fantasy Violence, Language, Use of Tob...        T  \n",
       "1                                 [Fantasy Violence]  E10plus  \n",
       "2       [Alcohol Reference, Language, Mild Violence]  E10plus  \n",
       "3                       [Fantasy Violence, Language]        T  \n",
       "4                         [Blood and Gore, Violence]        T  "
      ]
     },
     "execution_count": 9,
     "metadata": {},
     "output_type": "execute_result"
    }
   ],
   "source": [
    "# rearrange dataframe to put target variable at the end\n",
    "df = df[['title', 'consoles', 'descriptors', 'rating']]\n",
    "df.head()"
   ]
  },
  {
   "cell_type": "code",
   "execution_count": 11,
   "metadata": {
    "ExecuteTime": {
     "end_time": "2021-02-21T21:08:50.688844Z",
     "start_time": "2021-02-21T21:08:50.668879Z"
    }
   },
   "outputs": [],
   "source": [
    "# pickle it\n",
    "\n",
    "df.to_pickle('esrb_ratings.pkl')"
   ]
  }
 ],
 "metadata": {
  "kernelspec": {
   "display_name": "learn-env",
   "language": "python",
   "name": "learn-env"
  },
  "language_info": {
   "codemirror_mode": {
    "name": "ipython",
    "version": 3
   },
   "file_extension": ".py",
   "mimetype": "text/x-python",
   "name": "python",
   "nbconvert_exporter": "python",
   "pygments_lexer": "ipython3",
   "version": "3.6.9"
  },
  "toc": {
   "base_numbering": 1,
   "nav_menu": {},
   "number_sections": true,
   "sideBar": true,
   "skip_h1_title": false,
   "title_cell": "Table of Contents",
   "title_sidebar": "Contents",
   "toc_cell": false,
   "toc_position": {},
   "toc_section_display": true,
   "toc_window_display": false
  },
  "varInspector": {
   "cols": {
    "lenName": 16,
    "lenType": 16,
    "lenVar": 40
   },
   "kernels_config": {
    "python": {
     "delete_cmd_postfix": "",
     "delete_cmd_prefix": "del ",
     "library": "var_list.py",
     "varRefreshCmd": "print(var_dic_list())"
    },
    "r": {
     "delete_cmd_postfix": ") ",
     "delete_cmd_prefix": "rm(",
     "library": "var_list.r",
     "varRefreshCmd": "cat(var_dic_list()) "
    }
   },
   "types_to_exclude": [
    "module",
    "function",
    "builtin_function_or_method",
    "instance",
    "_Feature"
   ],
   "window_display": false
  }
 },
 "nbformat": 4,
 "nbformat_minor": 2
}
